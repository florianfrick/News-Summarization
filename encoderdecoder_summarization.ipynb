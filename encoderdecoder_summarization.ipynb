{
 "cells": [
  {
   "cell_type": "markdown",
   "metadata": {},
   "source": [
    "# News Article Summarization with Encoder-Decoder Model\n",
    "\n",
    "Florian Frick"
   ]
  },
  {
   "cell_type": "code",
   "execution_count": 1,
   "metadata": {},
   "outputs": [
    {
     "name": "stderr",
     "output_type": "stream",
     "text": [
      "c:\\Python38\\lib\\site-packages\\tqdm\\auto.py:21: TqdmWarning: IProgress not found. Please update jupyter and ipywidgets. See https://ipywidgets.readthedocs.io/en/stable/user_install.html\n",
      "  from .autonotebook import tqdm as notebook_tqdm\n"
     ]
    }
   ],
   "source": [
    "import torch\n",
    "import torch.nn as nn\n",
    "import torch.optim as optim\n",
    "import torchvision.transforms as T\n",
    "import torch.nn.functional as F\n",
    "from torch.utils.data import Dataset, DataLoader\n",
    "from datasets import load_dataset\n",
    "import matplotlib.pyplot as plt\n",
    "import numpy as np\n",
    "from transformers import BartTokenizer\n",
    "from tqdm import tqdm\n",
    "import matplotlib.pyplot as plt"
   ]
  },
  {
   "cell_type": "markdown",
   "metadata": {},
   "source": [
    "## Model"
   ]
  },
  {
   "cell_type": "code",
   "execution_count": 2,
   "metadata": {},
   "outputs": [],
   "source": [
    "# inspired by https://medium.com/@bavalpreetsinghh/transformer-from-scratch-using-pytorch-28a5d1b2e033\n",
    "class PositionalEmbedding(nn.Module):\n",
    "    def __init__(self, emb_dim, max_seq_length):\n",
    "        super().__init__()\n",
    "        # Create fixed sinusoidal positional embeddings\n",
    "        pe = torch.zeros(max_seq_length, emb_dim)\n",
    "        position = torch.arange(0, max_seq_length, dtype=torch.float).unsqueeze(1)\n",
    "        div_term = torch.exp(torch.arange(0, emb_dim, 2).float() * (-torch.log(torch.tensor(10000.0)) / emb_dim))\n",
    "        pe[:, 0::2] = torch.sin(position * div_term) # even-index columns\n",
    "        pe[:, 1::2] = torch.cos(position * div_term) # odd-index columns\n",
    "        pe = pe.unsqueeze(0)\n",
    "        self.register_buffer('pe', pe)\n",
    "        \n",
    "    def forward(self, x):\n",
    "        x = x + self.pe[:, :x.shape[1], :]  # Adjust to match the input size\n",
    "        \n",
    "        return x"
   ]
  },
  {
   "cell_type": "code",
   "execution_count": 3,
   "metadata": {},
   "outputs": [],
   "source": [
    "class AttentionHead(nn.Module):\n",
    "  def __init__(self, emb_dim, head_size, causal=False):\n",
    "    super().__init__()\n",
    "    self.head_size = head_size\n",
    "\n",
    "    self.query = nn.Linear(emb_dim, head_size, bias=False)\n",
    "    self.key = nn.Linear(emb_dim, head_size, bias=False)\n",
    "    self.value = nn.Linear(emb_dim, head_size, bias=False)\n",
    "\n",
    "    self.causal = causal\n",
    "\n",
    "  def forward(self, x, kv=None, k_mask=None):\n",
    "    B, T, C = x.shape\n",
    "    Q = self.query(x)                            # Shape: (B, q_len, head_size)\n",
    "    K = self.key(kv if kv is not None else x)    # Shape: (B, seq_len, head_size) where seq_len = k_len if cross attention, else q_len\n",
    "    V = self.value(kv if kv is not None else x)  # Shape: (B, seq_len, head_size) where seq_len = k_len if cross attention, else q_len\n",
    "\n",
    "    # Dot Product of Queries and Keys\n",
    "    attention = Q @ K.transpose(-2,-1) # Shape: (B, q_len, k_len)\n",
    "\n",
    "    # Scaling to prevent softmax saturation\n",
    "    attention = attention / (self.head_size ** 0.5)\n",
    "    \n",
    "    # Applying k padding mask if provided (column-wise mask)\n",
    "    if k_mask is not None:\n",
    "      k_mask = k_mask.unsqueeze(1) # Shape: (B, 1, k_len) can be broadcast with attention\n",
    "      attention = attention.masked_fill(k_mask == 0, float(\"-inf\"))\n",
    "\n",
    "    # Applying causal mask for decoder's masked MHA\n",
    "    if self.causal:\n",
    "      c_mask = torch.tril(torch.ones(T, T, device=x.device)) # is broadcastable with attention (B, T, T)\n",
    "      attention = attention.masked_fill(c_mask == 0, float(\"-inf\"))\n",
    "\n",
    "    attention = torch.softmax(attention, dim=-1)\n",
    "\n",
    "    # Weighted sum of values\n",
    "    output = attention @ V # Shape: (B, seq_len, head_size)  where seq_len = k_len if cross attention, else q_len\n",
    "\n",
    "    return output"
   ]
  },
  {
   "cell_type": "code",
   "execution_count": 4,
   "metadata": {},
   "outputs": [],
   "source": [
    "class MultiHeadAttention(nn.Module):\n",
    "  def __init__(self, emb_dim, n_heads, causal=False):\n",
    "    super().__init__()\n",
    "    \n",
    "    assert emb_dim % n_heads == 0, \"emb_dim must be divisible by n_heads\"\n",
    "    \n",
    "    self.head_size = emb_dim // n_heads\n",
    "\n",
    "    self.W_o = nn.Linear(emb_dim, emb_dim, bias=False)\n",
    "\n",
    "    self.causal = causal\n",
    "\n",
    "    self.heads = nn.ModuleList([AttentionHead(emb_dim, self.head_size, causal=self.causal) for _ in range(n_heads)])\n",
    "\n",
    "  def forward(self, x, kv=None, k_mask=None):\n",
    "    # Combine attention heads\n",
    "    out = torch.cat([head(x, kv, k_mask=k_mask) for head in self.heads], dim=-1)\n",
    "    \n",
    "    out = self.W_o(out)\n",
    "\n",
    "    return out"
   ]
  },
  {
   "cell_type": "code",
   "execution_count": 5,
   "metadata": {},
   "outputs": [],
   "source": [
    "class TransformerEncoder(nn.Module):\n",
    "    def __init__(self, emb_dim, n_heads, r_mlp=4, dropout=0.1):\n",
    "        super().__init__()\n",
    "        self.emb_dim = emb_dim\n",
    "        self.n_heads = n_heads\n",
    "\n",
    "        # Sub-Layer 1 Normalization\n",
    "        self.ln1 = nn.LayerNorm(emb_dim)\n",
    "\n",
    "        # Multi-Head Attention\n",
    "        self.mha = MultiHeadAttention(emb_dim, n_heads)\n",
    "\n",
    "        # Dropout after MHA\n",
    "        self.dropout1 = nn.Dropout(dropout)  \n",
    "\n",
    "        # Sub-Layer 2 Normalization\n",
    "        self.ln2 = nn.LayerNorm(emb_dim)\n",
    "\n",
    "        # Multilayer Perceptron\n",
    "        self.mlp = nn.Sequential(\n",
    "            nn.Linear(self.emb_dim, self.emb_dim * r_mlp),\n",
    "            nn.GELU(),\n",
    "            nn.Linear(self.emb_dim * r_mlp, self.emb_dim)\n",
    "        )\n",
    "\n",
    "        # Dropout after MLP\n",
    "        self.dropout2 = nn.Dropout(dropout)  \n",
    "\n",
    "    def forward(self, x, src_mask=None):\n",
    "        # Residual Connection After Sub-Layer 1 (MHA)\n",
    "        x = x + self.dropout1(self.mha(self.ln1(x), k_mask=src_mask))\n",
    "\n",
    "        # Residual Connection After Sub-Layer 2 (MLP)\n",
    "        x = x + self.dropout2(self.mlp(self.ln2(x)))\n",
    "\n",
    "        return x\n"
   ]
  },
  {
   "cell_type": "code",
   "execution_count": 6,
   "metadata": {},
   "outputs": [],
   "source": [
    "class TransformerDecoder(nn.Module):\n",
    "    def __init__(self, emb_dim, n_heads, r_mlp=4, dropout=0.1):\n",
    "        super().__init__()\n",
    "        self.emb_dim = emb_dim\n",
    "        self.n_heads = n_heads\n",
    "\n",
    "        self.ln1 = nn.LayerNorm(emb_dim)\n",
    "        self.masked_mha = MultiHeadAttention(emb_dim, n_heads, causal=True)\n",
    "        self.dropout1 = nn.Dropout(dropout)  # Dropout after masked MHA\n",
    "\n",
    "        self.ln2 = nn.LayerNorm(emb_dim)\n",
    "        self.cross_attention = MultiHeadAttention(emb_dim, n_heads)\n",
    "        self.dropout2 = nn.Dropout(dropout)  # Dropout after cross-attention\n",
    "\n",
    "        self.ln3 = nn.LayerNorm(emb_dim)\n",
    "        self.mlp = nn.Sequential(\n",
    "            nn.Linear(self.emb_dim, self.emb_dim * r_mlp),\n",
    "            nn.GELU(),\n",
    "            nn.Linear(self.emb_dim * r_mlp, self.emb_dim)\n",
    "        )\n",
    "        self.dropout3 = nn.Dropout(dropout)  # Dropout after MLP\n",
    "\n",
    "    def forward(self, x, encoder_output, src_mask=None, tgt_mask=None):\n",
    "        x = x + self.dropout1(self.masked_mha(self.ln1(x), k_mask=tgt_mask))\n",
    "        x = x + self.dropout2(self.cross_attention(self.ln2(x), kv=encoder_output, k_mask=src_mask))\n",
    "        x = x + self.dropout3(self.mlp(self.ln3(x)))\n",
    "        return x"
   ]
  },
  {
   "cell_type": "code",
   "execution_count": 7,
   "metadata": {},
   "outputs": [],
   "source": [
    "class TextEncoder(nn.Module):\n",
    "    def __init__(self, vocab_size, emb_dim, max_seq_length, n_heads, n_layers, dropout=0.1):  \n",
    "        super().__init__()\n",
    "\n",
    "        self.encoder_embedding = nn.Embedding(vocab_size, emb_dim)\n",
    "        self.positional_embedding = PositionalEmbedding(emb_dim, max_seq_length)\n",
    "\n",
    "        self.dropout = nn.Dropout(dropout)\n",
    "\n",
    "        self.encoder = nn.ModuleList(\n",
    "            [TransformerEncoder(emb_dim, n_heads, dropout=dropout) for _ in range(n_layers)]\n",
    "        )\n",
    "\n",
    "    def forward(self, text, src_mask=None):\n",
    "        x = self.encoder_embedding(text)\n",
    "        x = self.positional_embedding(x)\n",
    "        x = self.dropout(x)\n",
    "\n",
    "        for encoder_layer in self.encoder:\n",
    "            x = encoder_layer(x, src_mask=src_mask)\n",
    "\n",
    "        return x\n"
   ]
  },
  {
   "cell_type": "code",
   "execution_count": 8,
   "metadata": {},
   "outputs": [],
   "source": [
    "class TextDecoder(nn.Module):\n",
    "    def __init__(self, vocab_size, emb_dim, max_seq_length, n_heads, n_layers, dropout=0.1):\n",
    "        super().__init__()\n",
    "\n",
    "        self.decoder_embedding = nn.Embedding(vocab_size, emb_dim)\n",
    "        self.positional_embedding = PositionalEmbedding(emb_dim, max_seq_length)\n",
    "\n",
    "        self.dropout = nn.Dropout(dropout)\n",
    "\n",
    "        self.decoder = nn.ModuleList(\n",
    "            [TransformerDecoder(emb_dim, n_heads, dropout=dropout) for _ in range(n_layers)]\n",
    "        )\n",
    "\n",
    "        self.output_projection = nn.Linear(emb_dim, vocab_size)\n",
    "\n",
    "    def forward(self, tgt, encoder_outputs, src_mask=None, tgt_mask=None):\n",
    "        q = self.decoder_embedding(tgt)\n",
    "        q = self.positional_embedding(q)\n",
    "        q = self.dropout(q)  # Dropout after embedding\n",
    "\n",
    "        for decoder_layer in self.decoder:\n",
    "            q = decoder_layer(q, encoder_outputs, src_mask=src_mask, tgt_mask=tgt_mask)\n",
    "\n",
    "        q = self.output_projection(q)\n",
    "        return q\n"
   ]
  },
  {
   "cell_type": "code",
   "execution_count": 9,
   "metadata": {},
   "outputs": [],
   "source": [
    "class EncoderDecoder(nn.Module):\n",
    "    def __init__(self, vocab_size, emb_dim, max_text_length, max_summary_length, n_heads, n_layers):\n",
    "        super().__init__()\n",
    "        self.encoder = TextEncoder(vocab_size, emb_dim, max_text_length, n_heads, n_layers)\n",
    "        self.decoder = TextDecoder(vocab_size, emb_dim, max_summary_length, n_heads, n_layers)\n",
    "\n",
    "    def forward(self, src, tgt, src_mask=None, tgt_mask=None):\n",
    "        encoder_outputs = self.encoder(src, src_mask=src_mask)\n",
    "        # print(tokenizer.tokenizer.batch_decode(tgt, skip_special_tokens=False))\n",
    "        decoder_outputs = self.decoder(tgt, encoder_outputs, src_mask=src_mask, tgt_mask=tgt_mask)\n",
    "        # print(\"Decoder Output:\", tokenizer.tokenizer.batch_decode(decoder_outputs.argmax(dim=-1), skip_special_tokens=False))\n",
    "        return decoder_outputs\n",
    "\n",
    "    def generate(self, src, src_mask=None, max_length=128):\n",
    "        encoder_outputs = self.encoder(src, src_mask=src_mask) # Shape: (batch_size, seq_len, hidden_dim)\n",
    "\n",
    "        B = src.size(0)\n",
    "        # Initialize predicted text with the start token {<s>: 0}\n",
    "        predicted_text = torch.full((B, 1), fill_value=0, device=src.device) # Shape: (B, 1)\n",
    "        \n",
    "        for _ in range(max_length):\n",
    "            decoder_outputs = self.decoder(predicted_text, encoder_outputs, src_mask=src_mask) # mask encoder outputs corresponding with padding in the input\n",
    "\n",
    "            # next_token = torch.multinomial(torch.softmax(decoder_outputs[:, -1, :], dim=-1), num_samples=1)  # Sample from the output distribution\n",
    "            next_token = decoder_outputs[:, -1, :].argmax(dim=-1, keepdim=True)\n",
    "\n",
    "            predicted_text = torch.cat((predicted_text, next_token), dim=1)\n",
    "\n",
    "            if torch.all(next_token == 2):  # Stop when all sequences predict <eos>\n",
    "                break\n",
    "                    \n",
    "        return predicted_text"
   ]
  },
  {
   "cell_type": "code",
   "execution_count": 10,
   "metadata": {},
   "outputs": [],
   "source": [
    "# Bart Tokenizer:\n",
    "# tokenizer.tokenizer.decode([0,1,2])\n",
    "# '<s><pad></s>'\n",
    "class sumTokenizer:\n",
    "    def __init__(self, max_text_length=512, max_summary_length=128):\n",
    "        self.tokenizer = BartTokenizer.from_pretrained(\"facebook/bart-base\")\n",
    "        self.max_text_length = max_text_length\n",
    "        self.max_summary_length = max_summary_length\n",
    "        self.vocab_size = len(self.tokenizer)\n",
    "        \n",
    "    def __call__(self, text, is_target=False, padding=True, truncation=True):\n",
    "        if is_target:\n",
    "            return self.tokenizer(\n",
    "                text,\n",
    "                padding='max_length' if padding else False,\n",
    "                truncation=truncation,\n",
    "                max_length=self.max_summary_length,\n",
    "                return_tensors='pt'\n",
    "            )\n",
    "        else:\n",
    "            return self.tokenizer(\n",
    "                text,\n",
    "                padding='max_length' if padding else False,\n",
    "                truncation=truncation,\n",
    "                max_length=self.max_text_length,\n",
    "                return_tensors='pt'\n",
    "            )\n",
    "            \n",
    "    \n",
    "    def decode(self, token_ids, skip_special_tokens=True):\n",
    "        return self.tokenizer.decode(token_ids, skip_special_tokens=skip_special_tokens)"
   ]
  },
  {
   "cell_type": "code",
   "execution_count": 11,
   "metadata": {},
   "outputs": [],
   "source": [
    "class xsumDataset(Dataset):\n",
    "    def __init__(self, split=\"train\", max_text_length=512, max_summary_length=128):\n",
    "        self.dataset = load_dataset(\"EdinburghNLP/xsum\")[split]\n",
    "        self.tokenizer = sumTokenizer(max_text_length, max_summary_length)\n",
    "\n",
    "    def __len__(self):\n",
    "        return len(self.dataset)\n",
    "\n",
    "    def __getitem__(self, i):\n",
    "        # Get text and summary from dataset\n",
    "        text = self.dataset[i][\"document\"]\n",
    "        summary = self.dataset[i][\"summary\"]\n",
    "\n",
    "        # Tokenize input and target\n",
    "        inputs = self.tokenizer(text, is_target=False)\n",
    "        targets = self.tokenizer(summary, is_target=True)\n",
    "\n",
    "        target_ids = targets[\"input_ids\"].squeeze(0)\n",
    "\n",
    "        # Shift targets right for decoder input\n",
    "        decoder_input_ids = torch.cat(\n",
    "            [torch.tensor([1], device=target_ids.device), target_ids[:-1]]  # 1 is the <pad> token\n",
    "        )\n",
    "\n",
    "        return {\n",
    "            \"input_ids\": inputs[\"input_ids\"].squeeze(0),\n",
    "            \"input_mask\": inputs[\"attention_mask\"].squeeze(0),\n",
    "            \"target_ids\": target_ids,  # Used for loss calculation\n",
    "            \"decoder_input_ids\": decoder_input_ids,  # Shifted for decoder\n",
    "            \"target_mask\": targets[\"attention_mask\"].squeeze(0)\n",
    "        }\n"
   ]
  },
  {
   "cell_type": "markdown",
   "metadata": {},
   "source": [
    "## Demonstrating that the encoder decoder can memorize a single training example."
   ]
  },
  {
   "cell_type": "code",
   "execution_count": 12,
   "metadata": {},
   "outputs": [],
   "source": [
    "class DummyDataset(Dataset):\n",
    "    def __init__(self, max_text_length=20, max_summary_length=10, total_examples=10, unk_text=False):\n",
    "        self.tokenizer = sumTokenizer(max_text_length, max_summary_length)\n",
    "\n",
    "        if unk_text:\n",
    "            self.text = \"A new text input unknown to the model.\"\n",
    "            self.summary = \"unknown input\"\n",
    "        else:\n",
    "            self.text = \"Example input to test whether model can memorize a single example\"\n",
    "            self.summary = \"The summary of example input\"\n",
    "        self.total_examples = total_examples\n",
    "\n",
    "    def __len__(self):\n",
    "        return self.total_examples\n",
    "    \n",
    "    def __getitem__(self, i):\n",
    "        # Tokenize input and target\n",
    "        inputs = self.tokenizer(self.text, is_target=False)\n",
    "        targets = self.tokenizer(self.summary, is_target=True)\n",
    "\n",
    "        target_ids = targets[\"input_ids\"].squeeze(0)\n",
    "        \n",
    "        # Shift targets right: [<s>, The, summary, ..., </s>] -> [<pad>, <s>, The, summary, ...]\n",
    "        decoder_input_ids = torch.cat(\n",
    "            [torch.tensor([1], device=target_ids.device), target_ids[:-1]]  # Assuming 1 is the <pad> token\n",
    "        )\n",
    "\n",
    "        return {\n",
    "            \"input_ids\": inputs[\"input_ids\"].squeeze(0),\n",
    "            \"input_mask\": inputs[\"attention_mask\"].squeeze(0),\n",
    "            \"target_ids\": target_ids,  # Used for loss calculation\n",
    "            \"decoder_input_ids\": decoder_input_ids,  # Shifted for decoder\n",
    "            \"target_mask\": targets[\"attention_mask\"].squeeze(0)\n",
    "        }"
   ]
  },
  {
   "cell_type": "code",
   "execution_count": 13,
   "metadata": {},
   "outputs": [
    {
     "name": "stdout",
     "output_type": "stream",
     "text": [
      "Using device:  cuda (NVIDIA GeForce RTX 4060)\n"
     ]
    }
   ],
   "source": [
    "device = torch.device(\"cuda\" if torch.cuda.is_available() else \"cpu\")\n",
    "print(\"Using device: \", device, f\"({torch.cuda.get_device_name(device)})\" if torch.cuda.is_available() else \"\")\n",
    "\n",
    "emb_dim = 256\n",
    "max_text_length=20\n",
    "max_summary_length=10\n",
    "text_heads = 8\n",
    "text_layers = 6\n",
    "\n",
    "epochs = 4\n",
    "batch_size = 2\n",
    "lr = 5e-5\n",
    "\n",
    "\n",
    "train_set = DummyDataset(max_text_length, max_summary_length)\n",
    "test_set = DummyDataset(max_text_length, max_summary_length, unk_text=True)\n",
    "\n",
    "train_loader = DataLoader(train_set, shuffle=True, batch_size=batch_size)\n",
    "test_loader = DataLoader(test_set, shuffle=False, batch_size=batch_size)"
   ]
  },
  {
   "cell_type": "code",
   "execution_count": 14,
   "metadata": {},
   "outputs": [
    {
     "name": "stdout",
     "output_type": "stream",
     "text": [
      "Epoch 1/4\n",
      "Training loss: 11.298800468444824\n",
      "Training loss: 10.20062255859375\n",
      "Training loss: 9.440526962280273\n",
      "Training loss: 8.704160690307617\n",
      "Training loss: 7.706082820892334\n",
      "Epoch 2/4\n",
      "Training loss: 6.863729953765869\n",
      "Training loss: 6.277052879333496\n",
      "Training loss: 5.524877071380615\n",
      "Training loss: 4.868727684020996\n",
      "Training loss: 4.246597766876221\n",
      "Epoch 3/4\n",
      "Training loss: 3.675595998764038\n",
      "Training loss: 3.1386337280273438\n",
      "Training loss: 2.612342596054077\n",
      "Training loss: 1.9886587858200073\n",
      "Training loss: 1.601847529411316\n",
      "Epoch 4/4\n",
      "Training loss: 1.4121911525726318\n",
      "Training loss: 0.9618296027183533\n",
      "Training loss: 0.7298752069473267\n",
      "Training loss: 0.7371541261672974\n",
      "Training loss: 0.5315788984298706\n"
     ]
    }
   ],
   "source": [
    "# Initialize tokenizer and model\n",
    "tokenizer = sumTokenizer(max_text_length, max_summary_length)\n",
    "model = EncoderDecoder(\n",
    "    vocab_size=tokenizer.vocab_size,\n",
    "    emb_dim=emb_dim,\n",
    "    max_text_length=max_text_length,\n",
    "    max_summary_length=max_summary_length,\n",
    "    n_heads=text_heads,\n",
    "    n_layers=text_layers\n",
    ").to(device)\n",
    "\n",
    "optimizer = optim.Adam(model.parameters(), lr=lr)\n",
    "\n",
    "for epoch in range(epochs):\n",
    "    print(f\"Epoch {epoch + 1}/{epochs}\")\n",
    "    for batch in train_loader:\n",
    "        input_ids = batch[\"input_ids\"].to(device)\n",
    "        src_mask = batch[\"input_mask\"].to(device)\n",
    "        target_ids = batch[\"target_ids\"].to(device)  # Unshifted, used for loss\n",
    "        decoder_input_ids = batch[\"decoder_input_ids\"].to(device)  # Shifted, used for input\n",
    "        tgt_mask = batch[\"target_mask\"].to(device)\n",
    "\n",
    "        # Forward pass with shifted decoder input\n",
    "        outputs = model(\n",
    "            input_ids,\n",
    "            decoder_input_ids,  # Use shifted target IDs\n",
    "            src_mask=src_mask,\n",
    "            tgt_mask=tgt_mask\n",
    "        )\n",
    "\n",
    "        # Compute loss (predicting `target_ids`)\n",
    "        loss = F.cross_entropy(\n",
    "            outputs.view(-1, outputs.size(-1)),  \n",
    "            target_ids.view(-1),                 \n",
    "            ignore_index=1  # Ensure 1 is actually the <pad> token!\n",
    "        )\n",
    "\n",
    "        optimizer.zero_grad()\n",
    "        loss.backward()\n",
    "        optimizer.step()\n",
    "\n",
    "        print(\"Training loss:\", loss.item())"
   ]
  },
  {
   "cell_type": "code",
   "execution_count": 15,
   "metadata": {},
   "outputs": [
    {
     "name": "stdout",
     "output_type": "stream",
     "text": [
      "Test input: <s>Example input to test whether model can memorize a single example</s><pad><pad><pad><pad><pad><pad>\n",
      "Test target: <s>The summary of example input</s><pad><pad><pad>\n",
      "forward: ['The summary of example input</s> of input input input', 'The summary of example input</s> of input input input']\n",
      "fwd ce loss: tensor(3.6662, device='cuda:0')\n",
      "Generated Output: ['<s>The summary of example input</s>', '<s>The summary of example input</s>']\n"
     ]
    }
   ],
   "source": [
    "# Testing the model on a batch from the train loader (known dummy example)\n",
    "test_batch = next(iter(train_loader))\n",
    "input_ids = test_batch[\"input_ids\"].to(device)\n",
    "src_mask = test_batch[\"input_mask\"].to(device)\n",
    "target_ids = test_batch[\"target_ids\"].to(device)\n",
    "tgt_mask = test_batch[\"target_mask\"].to(device)\n",
    "\n",
    "print(\"Test input:\",tokenizer.tokenizer.decode(input_ids[0], skip_special_tokens=False))\n",
    "print(\"\\nTest target:\",tokenizer.tokenizer.decode(target_ids[0], skip_special_tokens=False))\n",
    "\n",
    "model.eval()\n",
    "with torch.no_grad():\n",
    "    outputs = model.generate(input_ids, src_mask=src_mask, max_length=max_summary_length)\n",
    "\n",
    "predicted_text = tokenizer.tokenizer.batch_decode(outputs, skip_special_tokens=False)  # Decode to text\n",
    "print(\"Generated Output:\", predicted_text)  # Print the predicted output"
   ]
  },
  {
   "cell_type": "code",
   "execution_count": 16,
   "metadata": {},
   "outputs": [
    {
     "name": "stdout",
     "output_type": "stream",
     "text": [
      "Test input: <s>A new text input unknown to the model.</s><pad><pad><pad><pad><pad><pad><pad><pad><pad>\n",
      "Test target: <s>unknown input</s><pad><pad><pad><pad><pad><pad>\n",
      "forward: ['The input</s> of input input input input input input', 'The input</s> of input input input input input input']\n",
      "fwd ce loss: tensor(6.1182, device='cuda:0')\n",
      "Predicted Output: ['The summary of example input', 'The summary of example input']\n"
     ]
    }
   ],
   "source": [
    "# Testing the model on a batch from the test loader (unseen example)\n",
    "test_batch = next(iter(test_loader))\n",
    "input_ids = test_batch[\"input_ids\"].to(device)\n",
    "src_mask = test_batch[\"input_mask\"].to(device)\n",
    "target_ids = test_batch[\"target_ids\"].to(device)\n",
    "tgt_mask = test_batch[\"target_mask\"].to(device)\n",
    "\n",
    "print(\"Test input:\",tokenizer.tokenizer.decode(input_ids[0], skip_special_tokens=False))\n",
    "print(\"\\nTest target:\",tokenizer.tokenizer.decode(target_ids[0], skip_special_tokens=False))\n",
    "\n",
    "model.eval()\n",
    "with torch.no_grad():\n",
    "    outputs = model.generate(input_ids, src_mask=src_mask, max_length=max_summary_length)\n",
    "\n",
    "predicted_text = tokenizer.tokenizer.batch_decode(outputs, skip_special_tokens=True)  # Decode to text\n",
    "print(\"Predicted Output:\", predicted_text)  # Print the predicted output"
   ]
  },
  {
   "cell_type": "markdown",
   "metadata": {},
   "source": [
    "## Training on xsum"
   ]
  },
  {
   "cell_type": "code",
   "execution_count": 17,
   "metadata": {},
   "outputs": [],
   "source": [
    "emb_dim = 256\n",
    "max_text_length=512\n",
    "max_summary_length=128\n",
    "text_heads = 8\n",
    "text_layers = 8\n",
    "\n",
    "epochs = 5\n",
    "batch_size = 8\n",
    "lr = 5e-5"
   ]
  },
  {
   "cell_type": "code",
   "execution_count": 18,
   "metadata": {},
   "outputs": [],
   "source": [
    "train_set = xsumDataset(split=\"train\", max_text_length=max_text_length, max_summary_length=max_summary_length)\n",
    "val_set = xsumDataset(split=\"validation\", max_text_length=max_text_length, max_summary_length=max_summary_length)\n",
    "test_set = xsumDataset(split=\"test\", max_text_length=max_text_length, max_summary_length=max_summary_length)\n",
    "\n",
    "train_loader = DataLoader(train_set, shuffle=True, batch_size=batch_size, pin_memory=True)\n",
    "val_loader = DataLoader(val_set, shuffle=False, batch_size=batch_size, pin_memory=True)\n",
    "test_loader = DataLoader(test_set, shuffle=False, batch_size=batch_size, pin_memory=True)"
   ]
  },
  {
   "cell_type": "code",
   "execution_count": 19,
   "metadata": {},
   "outputs": [
    {
     "name": "stdout",
     "output_type": "stream",
     "text": [
      "Using device:  cuda (NVIDIA GeForce RTX 4060)\n"
     ]
    }
   ],
   "source": [
    "device = torch.device(\"cuda\" if torch.cuda.is_available() else \"cpu\")\n",
    "print(\"Using device: \", device, f\"({torch.cuda.get_device_name(device)})\" if torch.cuda.is_available() else \"\")\n",
    "\n",
    "# Initialize tokenizer and model\n",
    "tokenizer = sumTokenizer(max_text_length=max_text_length, max_summary_length=max_summary_length)\n",
    "model = EncoderDecoder(\n",
    "    vocab_size=tokenizer.vocab_size,\n",
    "    emb_dim=emb_dim,\n",
    "    max_text_length=max_text_length,\n",
    "    max_summary_length=max_summary_length,\n",
    "    n_heads=text_heads,\n",
    "    n_layers=text_layers\n",
    ").to(device)"
   ]
  },
  {
   "cell_type": "code",
   "execution_count": 20,
   "metadata": {},
   "outputs": [
    {
     "name": "stdout",
     "output_type": "stream",
     "text": [
      "Epoch 1/5\n"
     ]
    },
    {
     "name": "stderr",
     "output_type": "stream",
     "text": [
      "Epoch 1/5: 100%|██████████| 25506/25506 [1:44:01<00:00,  4.09it/s, loss=4.47]\n"
     ]
    },
    {
     "name": "stdout",
     "output_type": "stream",
     "text": [
      "Epoch 1: Validation loss = 4.419611174032228\n",
      "Epoch 2/5\n"
     ]
    },
    {
     "name": "stderr",
     "output_type": "stream",
     "text": [
      "Epoch 2/5: 100%|██████████| 25506/25506 [8:50:33<00:00,  1.25s/it, loss=4.03]       \n"
     ]
    },
    {
     "name": "stdout",
     "output_type": "stream",
     "text": [
      "Epoch 2: Validation loss = 3.991926705744709\n",
      "Epoch 3/5\n"
     ]
    },
    {
     "name": "stderr",
     "output_type": "stream",
     "text": [
      "Epoch 3/5: 100%|██████████| 25506/25506 [1:42:47<00:00,  4.14it/s, loss=3.72]  \n"
     ]
    },
    {
     "name": "stdout",
     "output_type": "stream",
     "text": [
      "Epoch 3: Validation loss = 3.742782992212892\n",
      "Epoch 4/5\n"
     ]
    },
    {
     "name": "stderr",
     "output_type": "stream",
     "text": [
      "Epoch 4/5:   9%|▉         | 2293/25506 [08:36<1:27:12,  4.44it/s, loss=3.73]\n"
     ]
    },
    {
     "ename": "KeyboardInterrupt",
     "evalue": "",
     "output_type": "error",
     "traceback": [
      "\u001b[1;31m---------------------------------------------------------------------------\u001b[0m",
      "\u001b[1;31mKeyboardInterrupt\u001b[0m                         Traceback (most recent call last)",
      "Cell \u001b[1;32mIn[20], line 39\u001b[0m\n\u001b[0;32m     36\u001b[0m loss_history\u001b[38;5;241m.\u001b[39mappend(loss\u001b[38;5;241m.\u001b[39mitem())\n\u001b[0;32m     38\u001b[0m \u001b[38;5;66;03m# Backward pass with scaler for FP16 training\u001b[39;00m\n\u001b[1;32m---> 39\u001b[0m \u001b[43mscaler\u001b[49m\u001b[38;5;241;43m.\u001b[39;49m\u001b[43mscale\u001b[49m\u001b[43m(\u001b[49m\u001b[43mloss\u001b[49m\u001b[43m)\u001b[49m\u001b[38;5;241;43m.\u001b[39;49m\u001b[43mbackward\u001b[49m\u001b[43m(\u001b[49m\u001b[43m)\u001b[49m\n\u001b[0;32m     40\u001b[0m scaler\u001b[38;5;241m.\u001b[39mstep(optimizer)\n\u001b[0;32m     41\u001b[0m scaler\u001b[38;5;241m.\u001b[39mupdate()\n",
      "File \u001b[1;32mc:\\Python38\\lib\\site-packages\\torch\\_tensor.py:521\u001b[0m, in \u001b[0;36mTensor.backward\u001b[1;34m(self, gradient, retain_graph, create_graph, inputs)\u001b[0m\n\u001b[0;32m    511\u001b[0m \u001b[38;5;28;01mif\u001b[39;00m has_torch_function_unary(\u001b[38;5;28mself\u001b[39m):\n\u001b[0;32m    512\u001b[0m     \u001b[38;5;28;01mreturn\u001b[39;00m handle_torch_function(\n\u001b[0;32m    513\u001b[0m         Tensor\u001b[38;5;241m.\u001b[39mbackward,\n\u001b[0;32m    514\u001b[0m         (\u001b[38;5;28mself\u001b[39m,),\n\u001b[1;32m   (...)\u001b[0m\n\u001b[0;32m    519\u001b[0m         inputs\u001b[38;5;241m=\u001b[39minputs,\n\u001b[0;32m    520\u001b[0m     )\n\u001b[1;32m--> 521\u001b[0m \u001b[43mtorch\u001b[49m\u001b[38;5;241;43m.\u001b[39;49m\u001b[43mautograd\u001b[49m\u001b[38;5;241;43m.\u001b[39;49m\u001b[43mbackward\u001b[49m\u001b[43m(\u001b[49m\n\u001b[0;32m    522\u001b[0m \u001b[43m    \u001b[49m\u001b[38;5;28;43mself\u001b[39;49m\u001b[43m,\u001b[49m\u001b[43m \u001b[49m\u001b[43mgradient\u001b[49m\u001b[43m,\u001b[49m\u001b[43m \u001b[49m\u001b[43mretain_graph\u001b[49m\u001b[43m,\u001b[49m\u001b[43m \u001b[49m\u001b[43mcreate_graph\u001b[49m\u001b[43m,\u001b[49m\u001b[43m \u001b[49m\u001b[43minputs\u001b[49m\u001b[38;5;241;43m=\u001b[39;49m\u001b[43minputs\u001b[49m\n\u001b[0;32m    523\u001b[0m \u001b[43m\u001b[49m\u001b[43m)\u001b[49m\n",
      "File \u001b[1;32mc:\\Python38\\lib\\site-packages\\torch\\autograd\\__init__.py:289\u001b[0m, in \u001b[0;36mbackward\u001b[1;34m(tensors, grad_tensors, retain_graph, create_graph, grad_variables, inputs)\u001b[0m\n\u001b[0;32m    284\u001b[0m     retain_graph \u001b[38;5;241m=\u001b[39m create_graph\n\u001b[0;32m    286\u001b[0m \u001b[38;5;66;03m# The reason we repeat the same comment below is that\u001b[39;00m\n\u001b[0;32m    287\u001b[0m \u001b[38;5;66;03m# some Python versions print out the first line of a multi-line function\u001b[39;00m\n\u001b[0;32m    288\u001b[0m \u001b[38;5;66;03m# calls in the traceback and some print out the last line\u001b[39;00m\n\u001b[1;32m--> 289\u001b[0m \u001b[43m_engine_run_backward\u001b[49m\u001b[43m(\u001b[49m\n\u001b[0;32m    290\u001b[0m \u001b[43m    \u001b[49m\u001b[43mtensors\u001b[49m\u001b[43m,\u001b[49m\n\u001b[0;32m    291\u001b[0m \u001b[43m    \u001b[49m\u001b[43mgrad_tensors_\u001b[49m\u001b[43m,\u001b[49m\n\u001b[0;32m    292\u001b[0m \u001b[43m    \u001b[49m\u001b[43mretain_graph\u001b[49m\u001b[43m,\u001b[49m\n\u001b[0;32m    293\u001b[0m \u001b[43m    \u001b[49m\u001b[43mcreate_graph\u001b[49m\u001b[43m,\u001b[49m\n\u001b[0;32m    294\u001b[0m \u001b[43m    \u001b[49m\u001b[43minputs\u001b[49m\u001b[43m,\u001b[49m\n\u001b[0;32m    295\u001b[0m \u001b[43m    \u001b[49m\u001b[43mallow_unreachable\u001b[49m\u001b[38;5;241;43m=\u001b[39;49m\u001b[38;5;28;43;01mTrue\u001b[39;49;00m\u001b[43m,\u001b[49m\n\u001b[0;32m    296\u001b[0m \u001b[43m    \u001b[49m\u001b[43maccumulate_grad\u001b[49m\u001b[38;5;241;43m=\u001b[39;49m\u001b[38;5;28;43;01mTrue\u001b[39;49;00m\u001b[43m,\u001b[49m\n\u001b[0;32m    297\u001b[0m \u001b[43m\u001b[49m\u001b[43m)\u001b[49m\n",
      "File \u001b[1;32mc:\\Python38\\lib\\site-packages\\torch\\autograd\\graph.py:769\u001b[0m, in \u001b[0;36m_engine_run_backward\u001b[1;34m(t_outputs, *args, **kwargs)\u001b[0m\n\u001b[0;32m    767\u001b[0m     unregister_hooks \u001b[38;5;241m=\u001b[39m _register_logging_hooks_on_whole_graph(t_outputs)\n\u001b[0;32m    768\u001b[0m \u001b[38;5;28;01mtry\u001b[39;00m:\n\u001b[1;32m--> 769\u001b[0m     \u001b[38;5;28;01mreturn\u001b[39;00m \u001b[43mVariable\u001b[49m\u001b[38;5;241;43m.\u001b[39;49m\u001b[43m_execution_engine\u001b[49m\u001b[38;5;241;43m.\u001b[39;49m\u001b[43mrun_backward\u001b[49m\u001b[43m(\u001b[49m\u001b[43m  \u001b[49m\u001b[38;5;66;43;03m# Calls into the C++ engine to run the backward pass\u001b[39;49;00m\n\u001b[0;32m    770\u001b[0m \u001b[43m        \u001b[49m\u001b[43mt_outputs\u001b[49m\u001b[43m,\u001b[49m\u001b[43m \u001b[49m\u001b[38;5;241;43m*\u001b[39;49m\u001b[43margs\u001b[49m\u001b[43m,\u001b[49m\u001b[43m \u001b[49m\u001b[38;5;241;43m*\u001b[39;49m\u001b[38;5;241;43m*\u001b[39;49m\u001b[43mkwargs\u001b[49m\n\u001b[0;32m    771\u001b[0m \u001b[43m    \u001b[49m\u001b[43m)\u001b[49m  \u001b[38;5;66;03m# Calls into the C++ engine to run the backward pass\u001b[39;00m\n\u001b[0;32m    772\u001b[0m \u001b[38;5;28;01mfinally\u001b[39;00m:\n\u001b[0;32m    773\u001b[0m     \u001b[38;5;28;01mif\u001b[39;00m attach_logging_hooks:\n",
      "\u001b[1;31mKeyboardInterrupt\u001b[0m: "
     ]
    }
   ],
   "source": [
    "optimizer = optim.Adam(model.parameters(), lr=lr)\n",
    "loss_history = []\n",
    "\n",
    "scaler = torch.amp.GradScaler(\"cuda\")\n",
    "\n",
    "for epoch in range(epochs):\n",
    "    print(f\"Epoch {epoch + 1}/{epochs}\")\n",
    "    model.train()  # Ensure model is in training mode\n",
    "\n",
    "    progress_bar = tqdm(train_loader, desc=f\"Epoch {epoch + 1}/{epochs}\")\n",
    "    for batch_idx, batch in enumerate(progress_bar):\n",
    "        input_ids = batch[\"input_ids\"].to(device)\n",
    "        src_mask = batch[\"input_mask\"].to(device)\n",
    "        target_ids = batch[\"target_ids\"].to(device)  # Unshifted, used for loss\n",
    "        decoder_input_ids = batch[\"decoder_input_ids\"].to(device)  # Shifted, used for input\n",
    "        tgt_mask = batch[\"target_mask\"].to(device)\n",
    "\n",
    "        optimizer.zero_grad()\n",
    "\n",
    "        # Mixed precision forward pass with shifted decoder input\n",
    "        with torch.amp.autocast(\"cuda\"):\n",
    "            outputs = model(\n",
    "                input_ids,\n",
    "                decoder_input_ids,  # Use shifted targets as decoder input\n",
    "                src_mask=src_mask,\n",
    "                tgt_mask=tgt_mask\n",
    "            )\n",
    "\n",
    "            # Calculate cross entropy loss (predicting `target_ids`)\n",
    "            loss = F.cross_entropy(\n",
    "                outputs.view(-1, outputs.size(-1)),  # [B*summary_len, vocab_size]\n",
    "                target_ids.view(-1),                 # [B*summary_len]\n",
    "                ignore_index=1                       # Ignore padding tokens\n",
    "            )\n",
    "\n",
    "        loss_history.append(loss.item())\n",
    "\n",
    "        # Backward pass with scaler for FP16 training\n",
    "        scaler.scale(loss).backward()\n",
    "        scaler.step(optimizer)\n",
    "        scaler.update()\n",
    "\n",
    "        # Every 50 batches, print average loss and save model\n",
    "        if (batch_idx + 1) % 50 == 0:\n",
    "            avg_loss = np.mean(loss_history[-50:])\n",
    "            progress_bar.set_postfix(loss=avg_loss)\n",
    "            np.save(\"loss_history.npy\", np.array(loss_history))\n",
    "            torch.save(model.state_dict(), \"xsum_model.pt\")\n",
    "\n",
    "    # End-of-epoch: Evaluate on validation set\n",
    "    model.eval()\n",
    "    val_losses = []\n",
    "    with torch.no_grad():\n",
    "        for batch in val_loader:\n",
    "            input_ids = batch[\"input_ids\"].to(device)\n",
    "            src_mask = batch[\"input_mask\"].to(device)\n",
    "            target_ids = batch[\"target_ids\"].to(device)\n",
    "            decoder_input_ids = batch[\"decoder_input_ids\"].to(device)\n",
    "            tgt_mask = batch[\"target_mask\"].to(device)\n",
    "\n",
    "            outputs = model(\n",
    "                src=input_ids,\n",
    "                tgt=decoder_input_ids,  # Use shifted targets as decoder input\n",
    "                src_mask=src_mask,\n",
    "                tgt_mask=tgt_mask\n",
    "            )\n",
    "\n",
    "            loss = F.cross_entropy(\n",
    "                outputs.view(-1, outputs.size(-1)),\n",
    "                target_ids.view(-1),\n",
    "                ignore_index=1\n",
    "            )\n",
    "            val_losses.append(loss.item())\n",
    "\n",
    "    avg_val_loss = np.mean(val_losses)\n",
    "    print(f\"Epoch {epoch + 1}: Validation loss = {avg_val_loss}\")\n"
   ]
  },
  {
   "cell_type": "markdown",
   "metadata": {},
   "source": [
    "### Eval"
   ]
  },
  {
   "cell_type": "code",
   "execution_count": 21,
   "metadata": {},
   "outputs": [
    {
     "name": "stderr",
     "output_type": "stream",
     "text": [
      "C:\\Users\\Florian Frick\\AppData\\Local\\Temp\\ipykernel_11032\\3272035933.py:1: FutureWarning: You are using `torch.load` with `weights_only=False` (the current default value), which uses the default pickle module implicitly. It is possible to construct malicious pickle data which will execute arbitrary code during unpickling (See https://github.com/pytorch/pytorch/blob/main/SECURITY.md#untrusted-models for more details). In a future release, the default value for `weights_only` will be flipped to `True`. This limits the functions that could be executed during unpickling. Arbitrary objects will no longer be allowed to be loaded via this mode unless they are explicitly allowlisted by the user via `torch.serialization.add_safe_globals`. We recommend you start setting `weights_only=True` for any use case where you don't have full control of the loaded file. Please open an issue on GitHub for any issues related to this experimental feature.\n",
      "  model.load_state_dict(torch.load(\"xsum_model.pt\"))\n"
     ]
    }
   ],
   "source": [
    "model.load_state_dict(torch.load(\"xsum_model.pt\"))\n",
    "model.to(device);"
   ]
  },
  {
   "cell_type": "code",
   "execution_count": 24,
   "metadata": {},
   "outputs": [
    {
     "data": {
      "image/png": "[encoded data removed]",
      "text/plain": [
       "<Figure size 1000x500 with 1 Axes>"
      ]
     },
     "metadata": {},
     "output_type": "display_data"
    }
   ],
   "source": [
    "# Load the loss history from the .npy file\n",
    "loss_history = np.load('loss_history.npy')\n",
    "\n",
    "# Plot the loss history\n",
    "plt.figure(figsize=(10, 5))\n",
    "plt.plot(loss_history, label='Training Loss')\n",
    "plt.title('Training Loss Over Batches')\n",
    "plt.xlabel('Batches')\n",
    "plt.ylabel('Loss')\n",
    "plt.legend()\n",
    "plt.grid()\n",
    "plt.show()\n"
   ]
  },
  {
   "cell_type": "code",
   "execution_count": 46,
   "metadata": {},
   "outputs": [
    {
     "name": "stdout",
     "output_type": "stream",
     "text": [
      "Test input:\n",
      " \"The Security Council,\n",
      "Recalling its resolution 1970 (2011) of 26 February 2011,\n",
      "Deploring the failure of the Libyan authorities to comply with resolution 1970 (2011),\n",
      "Expressing grave concern at the deteriorating situation, the escalation of violence, and the heavy civilian casualties,\n",
      "Reiterating the responsibility of the Libyan authorities to protect the Libyan population and reaffirming that parties to armed conflicts bear the primary responsibility to take all feasible steps to ensure the protection of civilians,\n",
      "Condemning the gross and systematic violation of human rights, including arbitrary detentions, enforced disappearances, torture and summary executions,\n",
      "Further condemning acts of violence and intimidation committed by the Libyan authorities against journalists, media professionals and associated personnel and urging these authorities to comply with their obligations under international humanitarian law as outlined in resolution 1738 (2006),\n",
      "Considering that the widespread and systematic attacks currently taking place in the Libyan Arab Jamahiriya against the civilian population may amount to crimes against humanity,\n",
      "Recalling paragraph 26 of resolution 1970 (2011) in which the Council expressed its readiness to consider taking additional appropriate measures, as necessary, to facilitate and support the return of humanitarian agencies and make available humanitarian and related assistance in the Libyan Arab Jamahiriya,\n",
      "Expressing its determination to ensure the protection of civilians and civilian populated areas and the rapid and unimpeded passage of humanitarian assistance and the safety of humanitarian personnel,\n",
      "Recalling the condemnation by the League of Arab States, the African Union and the Secretary-General of the Organization of the Islamic Conference of the serious violations of human rights and international humanitarian law that have been and are being committed in the Libyan Arab Jamahiriya,\n",
      "Taking note of the final communiqué of the Organization of the Islamic Conference of 8 March 2011, and the communiqué of the Peace and Security Council of the African Union of 10 March 2011 which established an ad hoc High-Level Committee on Libya,\n",
      "Taking note also of the decision of the Council of the League of Arab States of 12 March 2011 to call for the imposition of a no-fly zone on Libyan military aviation, and to establish safe areas in places exposed to shelling as a precautionary measure that allows the protection of the Libyan people and foreign nationals residing in the Libyan Arab Jamahiriya,\n",
      "Taking note further of the Secretary-General's call on 16 March 2011 for an immediate ceasefire,\n",
      "Recalling its decision to refer the situation in the Libyan Arab Jamahiriya since 15 February 2011 to the Prosecutor of the International Criminal\n",
      "\n",
      "Test target: Here is the full text of UN resolution 1973 imposing a no-fly zone and other sanctions on Libya.\n",
      "Generated Output: The government has been a \"violent\" of violence in the country's capital, Mogadishu, as a result of the government...................................................\n"
     ]
    }
   ],
   "source": [
    "# Testing the model on a batch from the train loader (seen example)\n",
    "test_batch = next(iter(train_loader))\n",
    "input_ids = test_batch[\"input_ids\"].to(device)\n",
    "src_mask = test_batch[\"input_mask\"].to(device)\n",
    "target_ids = test_batch[\"target_ids\"].to(device)\n",
    "tgt_mask = test_batch[\"target_mask\"].to(device)\n",
    "\n",
    "print(\"Test input:\\n\",tokenizer.tokenizer.decode(input_ids[0], skip_special_tokens=True))\n",
    "print(\"\\nTest target:\",tokenizer.tokenizer.decode(target_ids[0], skip_special_tokens=True))\n",
    "\n",
    "model.eval()\n",
    "with torch.no_grad():\n",
    "    outputs = model.generate(input_ids, src_mask=src_mask, max_length=max_summary_length)\n",
    "\n",
    "predicted_text = tokenizer.tokenizer.batch_decode(outputs, skip_special_tokens=True)  # Decode to text\n",
    "print(\"Generated Output:\", predicted_text[0])  # Print the predicted output"
   ]
  },
  {
   "cell_type": "code",
   "execution_count": 42,
   "metadata": {},
   "outputs": [
    {
     "name": "stdout",
     "output_type": "stream",
     "text": [
      "Test input:\n",
      " Prison Link Cymru had 1,099 referrals in 2015-16 and said some ex-offenders were living rough for up to a year before finding suitable accommodation.\n",
      "Workers at the charity claim investment in housing would be cheaper than jailing homeless repeat offenders.\n",
      "The Welsh Government said more people than ever were getting help to address housing problems.\n",
      "Changes to the Housing Act in Wales, introduced in 2015, removed the right for prison leavers to be given priority for accommodation.\n",
      "Prison Link Cymru, which helps people find accommodation after their release, said things were generally good for women because issues such as children or domestic violence were now considered.\n",
      "However, the same could not be said for men, the charity said, because issues which often affect them, such as post traumatic stress disorder or drug dependency, were often viewed as less of a priority.\n",
      "Andrew Stevens, who works in Welsh prisons trying to secure housing for prison leavers, said the need for accommodation was \"chronic\".\n",
      "\"There's a desperate need for it, finding suitable accommodation for those leaving prison there is just a lack of it everywhere,\" he said.\n",
      "\"It could take six months to a year, without a lot of help they could be on the streets for six months.\n",
      "\"When you think of the consequences of either being on the street, especially with the cold weather at the moment or you may have a roof over your head, sometimes there is only one choice.\"\n",
      "Mr Stevens believes building more one-bedroom flats could help ease the problem.\n",
      "\"The average price is a hundred pounds a week to keep someone in a rented flat, prison is a lot more than that so I would imagine it would save the public purse quite a few pounds,\" he said.\n",
      "Official figures show 830 one-bedroom properties were built in the year to March 2016, of an overall total of 6,900 new properties in Wales.\n",
      "Marc, 50, who has been in and out of prison for the past 20 years for burglary offences, said he struggled to find accommodation each time he was released.\n",
      "He said he would ask himself: \"Where am I going to stay? Where am I going to live? Have I got somewhere where I can see my daughter.\"\n",
      "\"You're put out among the same sort of people doing the same sort of thing, and it's difficult, it's difficult to get away from it. It's like every man for himself, there's nothing.\"\n",
      "Marc has now\n",
      "\n",
      "Test target: There is a \"chronic\" need for more housing for prison leavers in Wales, according to a charity.\n",
      "Predicted Output: Students at a prison in Wales have risen. to a year, according to new figures.......................................................\n"
     ]
    }
   ],
   "source": [
    "# Testing the model on a batch from the test loader (unseen example)\n",
    "test_batch = next(iter(test_loader))\n",
    "input_ids = test_batch[\"input_ids\"].to(device)\n",
    "src_mask = test_batch[\"input_mask\"].to(device)\n",
    "target_ids = test_batch[\"target_ids\"].to(device)\n",
    "tgt_mask = test_batch[\"target_mask\"].to(device)\n",
    "\n",
    "print(\"Test input:\\n\",tokenizer.tokenizer.decode(input_ids[0], skip_special_tokens=True))\n",
    "print(\"\\nTest target:\",tokenizer.tokenizer.decode(target_ids[0], skip_special_tokens=True))\n",
    "\n",
    "model.eval()\n",
    "with torch.no_grad():\n",
    "    outputs = model.generate(input_ids, src_mask=src_mask, max_length=max_summary_length)\n",
    "\n",
    "predicted_text = tokenizer.tokenizer.batch_decode(outputs, skip_special_tokens=True)  # Decode to text\n",
    "print(\"Predicted Output:\", predicted_text[0])  # Print the predicted output"
   ]
  },
  {
   "cell_type": "code",
   "execution_count": 37,
   "metadata": {},
   "outputs": [
    {
     "name": "stdout",
     "output_type": "stream",
     "text": [
      "Test Loss: 11.3033\n",
      "ROUGE-1 Score: 0.0842\n",
      "ROUGE-2 Score: 0.0264\n",
      "ROUGE-L Score: 0.0697\n"
     ]
    }
   ],
   "source": [
    "from rouge_score import rouge_scorer\n",
    "\n",
    "# Initialize the ROUGE scorer\n",
    "scorer = rouge_scorer.RougeScorer(['rouge1', 'rouge2', 'rougeL'], use_stemmer=True)\n",
    "\n",
    "test_loss = 0\n",
    "all_references = []\n",
    "all_hypotheses = []\n",
    "rouge_scores = {'rouge1': [], 'rouge2': [], 'rougeL': []}\n",
    "\n",
    "with torch.no_grad():  # Disable gradient calculation\n",
    "    for batch in test_loader:\n",
    "        # Move everything to device\n",
    "        input_ids = batch[\"input_ids\"].to(device)\n",
    "        src_mask = batch[\"input_mask\"].to(device)\n",
    "        target_ids = batch[\"target_ids\"].to(device)\n",
    "        tgt_mask = batch[\"target_mask\"].to(device)\n",
    "\n",
    "        # Forward pass\n",
    "        outputs = model(\n",
    "            input_ids,\n",
    "            target_ids,\n",
    "            src_mask=src_mask,\n",
    "            tgt_mask=tgt_mask\n",
    "        )\n",
    "\n",
    "        # Calculate cross entropy loss directly\n",
    "        loss = F.cross_entropy(\n",
    "            outputs.view(-1, outputs.size(-1)),\n",
    "            target_ids.view(-1),\n",
    "            ignore_index=1\n",
    "        )\n",
    "\n",
    "        test_loss += loss.item()\n",
    "\n",
    "        # Convert outputs and targets to strings for ROUGE score\n",
    "        predictions = outputs.argmax(dim=-1).tolist()\n",
    "        references = target_ids.tolist()\n",
    "        \n",
    "        for pred, ref in zip(predictions, references):\n",
    "            pred_str = ' '.join(map(str, pred))\n",
    "            ref_str = ' '.join(map(str, ref))\n",
    "            \n",
    "            # Calculate ROUGE scores for each prediction and reference\n",
    "            score = scorer.score(ref_str, pred_str)\n",
    "            \n",
    "            rouge_scores['rouge1'].append(score['rouge1'])\n",
    "            rouge_scores['rouge2'].append(score['rouge2'])\n",
    "            rouge_scores['rougeL'].append(score['rougeL'])\n",
    "\n",
    "# Calculate average test loss\n",
    "avg_test_loss = test_loss / len(test_loader)\n",
    "print(f\"Test Loss: {avg_test_loss:.4f}\")\n",
    "\n",
    "# Calculate average ROUGE scores\n",
    "avg_rouge1 = sum([score.fmeasure for score in rouge_scores['rouge1']]) / len(rouge_scores['rouge1'])\n",
    "avg_rouge2 = sum([score.fmeasure for score in rouge_scores['rouge2']]) / len(rouge_scores['rouge2'])\n",
    "avg_rougeL = sum([score.fmeasure for score in rouge_scores['rougeL']]) / len(rouge_scores['rougeL'])\n",
    "\n",
    "print(f\"ROUGE-1 Score: {avg_rouge1:.4f}\")\n",
    "print(f\"ROUGE-2 Score: {avg_rouge2:.4f}\")\n",
    "print(f\"ROUGE-L Score: {avg_rougeL:.4f}\")"
   ]
  },
  {
   "cell_type": "code",
   "execution_count": 38,
   "metadata": {},
   "outputs": [
    {
     "name": "stdout",
     "output_type": "stream",
     "text": [
      "Total number of parameters: 53374809\n"
     ]
    }
   ],
   "source": [
    "total_params = sum(p.numel() for p in model.parameters())\n",
    "\n",
    "print(f\"Total number of parameters: {total_params}\")"
   ]
  }
 ],
 "metadata": {
  "kernelspec": {
   "display_name": "Python 3",
   "language": "python",
   "name": "python3"
  },
  "language_info": {
   "codemirror_mode": {
    "name": "ipython",
    "version": 3
   },
   "file_extension": ".py",
   "mimetype": "text/x-python",
   "name": "python",
   "nbconvert_exporter": "python",
   "pygments_lexer": "ipython3",
   "version": "3.8.3"
  }
 },
 "nbformat": 4,
 "nbformat_minor": 2
}
